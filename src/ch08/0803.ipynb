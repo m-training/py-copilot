{
 "cells": [
  {
   "cell_type": "markdown",
   "metadata": {},
   "source": [
    "ベクトル式を扱う\n",
    "\n",
    "- ベクトルを扱うサンプルコードを書いて。"
   ]
  },
  {
   "cell_type": "code",
   "execution_count": 1,
   "metadata": {},
   "outputs": [
    {
     "name": "stdout",
     "output_type": "stream",
     "text": [
      "Vector: [1 2 3]\n",
      "Length of the vector: 3.7416573867739413\n",
      "Dot product of the two vectors: 32\n",
      "Cross product of the two vectors: [-3  6 -3]\n"
     ]
    }
   ],
   "source": [
    "import numpy as np\n",
    "\n",
    "# Create a vector\n",
    "vector = np.array([1, 2, 3])\n",
    "\n",
    "# Print the vector\n",
    "print(\"Vector:\", vector)\n",
    "\n",
    "# Calculate the length of the vector\n",
    "length = np.linalg.norm(vector)\n",
    "print(\"Length of the vector:\", length)\n",
    "\n",
    "# Calculate the dot product of two vectors\n",
    "vector2 = np.array([4, 5, 6])\n",
    "dot_product = np.dot(vector, vector2)\n",
    "print(\"Dot product of the two vectors:\", dot_product)\n",
    "\n",
    "# Calculate the cross product of two vectors\n",
    "cross_product = np.cross(vector, vector2)\n",
    "print(\"Cross product of the two vectors:\", cross_product)"
   ]
  },
  {
   "cell_type": "markdown",
   "metadata": {},
   "source": [
    "行列を扱う\n",
    "\n",
    "- 行列を扱うサンプルコードを書いて"
   ]
  },
  {
   "cell_type": "code",
   "execution_count": 5,
   "metadata": {},
   "outputs": [
    {
     "name": "stdout",
     "output_type": "stream",
     "text": [
      "Matrix:\n",
      "[[1 2 3]\n",
      " [4 5 6]\n",
      " [7 8 9]]\n",
      "Transpose of the matrix:\n",
      "Matrix is singular, cannot calculate inverse.\n",
      "Matrix multiplication:\n",
      "[[19 22]\n",
      " [43 50]]\n"
     ]
    }
   ],
   "source": [
    "import numpy as np\n",
    "\n",
    "# Create a matrix\n",
    "matrix = np.array([[1, 2, 3], [4, 5, 6], [7, 8, 9]])\n",
    "\n",
    "# Print the matrix\n",
    "print(\"Matrix:\")\n",
    "print(matrix)\n",
    "\n",
    "# Calculate the transpose of the matrix\n",
    "transpose = np.transpose(matrix)\n",
    "print(\"Transpose of the matrix:\")\n",
    "# Check if the matrix is singular\n",
    "if np.linalg.det(matrix) == 0:\n",
    "    print(\"Matrix is singular, cannot calculate inverse.\")\n",
    "else:\n",
    "    # Calculate the inverse of the matrix\n",
    "    inverse = np.linalg.inv(matrix)\n",
    "    print(\"Inverse of the matrix:\")\n",
    "    print(inverse)\n",
    "\n",
    "print(\"Matrix multiplication:\")\n",
    "# Create a matrix\n",
    "matrix1 = np.array([[1, 2], [3, 4]])\n",
    "matrix2 = np.array([[5, 6], [7, 8]])\n",
    "# Multiply the two matrices\n",
    "product = np.dot(matrix1, matrix2)\n",
    "print(product)"
   ]
  }
 ],
 "metadata": {
  "kernelspec": {
   "display_name": ".venv",
   "language": "python",
   "name": "python3"
  },
  "language_info": {
   "codemirror_mode": {
    "name": "ipython",
    "version": 3
   },
   "file_extension": ".py",
   "mimetype": "text/x-python",
   "name": "python",
   "nbconvert_exporter": "python",
   "pygments_lexer": "ipython3",
   "version": "3.9.7"
  }
 },
 "nbformat": 4,
 "nbformat_minor": 2
}
