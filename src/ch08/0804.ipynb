{
 "cells": [
  {
   "cell_type": "markdown",
   "metadata": {},
   "source": [
    "基本統計量を計算する\n",
    "- 基本統計量を計算するサンプルコードを書いて。"
   ]
  },
  {
   "cell_type": "code",
   "execution_count": 2,
   "metadata": {},
   "outputs": [
    {
     "name": "stdout",
     "output_type": "stream",
     "text": [
      "count    4.700000e+01\n",
      "mean     2.683960e+06\n",
      "std      2.796582e+06\n",
      "min      5.534070e+05\n",
      "25%      1.068802e+06\n",
      "50%      1.588256e+06\n",
      "75%      2.688894e+06\n",
      "max      1.404759e+07\n",
      "dtype: float64\n"
     ]
    }
   ],
   "source": [
    "import pandas as pd\n",
    "import numpy as np\n",
    "\n",
    "# Specify the file path\n",
    "file_path = 'FEH_00200521_240805152851.csv'\n",
    "\n",
    "# Read the CSV file into a pandas DataFrame\n",
    "df = pd.read_csv(file_path)\n",
    "\n",
    "# Display the DataFrame\n",
    "\n",
    "# 最初の行を読み飛ばす\n",
    "df.head()\n",
    "# 都道府県名のリストを作成\n",
    "prefectures = [\n",
    "    \"北海道\",\"青森県\", \"岩手県\",\"宮城県\",\"秋田県\",\"山形県\",\"福島県\",\n",
    "    \"茨城県\",\"栃木県\",\"群馬県\",\"埼玉県\",\"千葉県\",\"東京都\",\"神奈川県\",\n",
    "    \"新潟県\",\"富山県\",\"石川県\",\"福井県\",\"山梨県\",\"長野県\",\"岐阜県\",\n",
    "    \"静岡県\",\"愛知県\",\"三重県\",\"滋賀県\",\"京都府\",\"大阪府\",\"兵庫県\",\n",
    "    \"奈良県\",\"和歌山県\",\"鳥取県\",\"島根県\",\"岡山県\",\"広島県\",\"山口県\",\n",
    "    \"徳島県\",\"香川県\",\"愛媛県\",\"高知県\",\"福岡県\",\"佐賀県\",\"長崎県\",\n",
    "    \"熊本県\",\"大分県\",\"宮崎県\",\"鹿児島県\",\"沖縄県\"]\n",
    "\n",
    "# 都道府県名が含まれる行を表示\n",
    "total = []\n",
    "\n",
    "for index, row in df.iterrows():\n",
    "    if row.iloc[3] in prefectures:\n",
    "        # print(row[3].strip(), row[5].strip(), row[6].strip(), row[7].strip())\n",
    "        total.append(int(row.iloc[5].replace(',','').strip()))\n",
    "\n",
    "# Calculate basic statistics\n",
    "statistics = pd.Series(total).describe()\n",
    "print(statistics)\n",
    "\n"
   ]
  }
 ],
 "metadata": {
  "kernelspec": {
   "display_name": ".venv",
   "language": "python",
   "name": "python3"
  },
  "language_info": {
   "codemirror_mode": {
    "name": "ipython",
    "version": 3
   },
   "file_extension": ".py",
   "mimetype": "text/x-python",
   "name": "python",
   "nbconvert_exporter": "python",
   "pygments_lexer": "ipython3",
   "version": "3.9.7"
  }
 },
 "nbformat": 4,
 "nbformat_minor": 2
}
