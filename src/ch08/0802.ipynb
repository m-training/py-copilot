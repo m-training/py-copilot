{
 "cells": [
  {
   "cell_type": "markdown",
   "metadata": {},
   "source": [
    "平均値を求める。"
   ]
  },
  {
   "cell_type": "code",
   "execution_count": 3,
   "metadata": {},
   "outputs": [
    {
     "name": "stdout",
     "output_type": "stream",
     "text": [
      "全国 126146099\n",
      "全国 平均 2683959.5531914895\n",
      "男性 61349581\n",
      "男性 平均 1305310.2340425532\n",
      "女性 64796518\n",
      "女性 平均 1378649.319148936\n"
     ]
    }
   ],
   "source": [
    "import pandas as pd\n",
    "\n",
    "# Specify the file path\n",
    "file_path = 'FEH_00200521_240805152851.csv'\n",
    "\n",
    "# Read the CSV file into a pandas DataFrame\n",
    "df = pd.read_csv(file_path)\n",
    "\n",
    "# Display the DataFrame\n",
    "\n",
    "# 最初の行を読み飛ばす\n",
    "df.head()\n",
    "# 都道府県名のリストを作成\n",
    "prefectures = [\n",
    "    \"北海道\",\"青森県\", \"岩手県\",\"宮城県\",\"秋田県\",\"山形県\",\"福島県\",\n",
    "    \"茨城県\",\"栃木県\",\"群馬県\",\"埼玉県\",\"千葉県\",\"東京都\",\"神奈川県\",\n",
    "    \"新潟県\",\"富山県\",\"石川県\",\"福井県\",\"山梨県\",\"長野県\",\"岐阜県\",\n",
    "    \"静岡県\",\"愛知県\",\"三重県\",\"滋賀県\",\"京都府\",\"大阪府\",\"兵庫県\",\n",
    "    \"奈良県\",\"和歌山県\",\"鳥取県\",\"島根県\",\"岡山県\",\"広島県\",\"山口県\",\n",
    "    \"徳島県\",\"香川県\",\"愛媛県\",\"高知県\",\"福岡県\",\"佐賀県\",\"長崎県\",\n",
    "    \"熊本県\",\"大分県\",\"宮崎県\",\"鹿児島県\",\"沖縄県\"]\n",
    "\n",
    "# 都道府県名が含まれる行を表示\n",
    "total = 0\n",
    "men = 0\n",
    "women = 0\n",
    "\n",
    "\n",
    "for index, row in df.iterrows():\n",
    "    if row.iloc[3] in prefectures:\n",
    "        # print(row[3].strip(), row[5].strip(), row[6].strip(), row[7].strip())\n",
    "        total += int(row.iloc[5].replace(',','').strip())\n",
    "        men   += int(row.iloc[6].replace(',','').strip())\n",
    "        women += int(row.iloc[7].replace(',','').strip())\n",
    "\n",
    "\n",
    "\n",
    "print(\"全国\", total)\n",
    "print(\"全国 平均\", total / len(prefectures))\n",
    "print(\"男性\", men)\n",
    "print(\"男性 平均\", men / len(prefectures))\n",
    "print(\"女性\", women)\n",
    "print(\"女性 平均\", women / len(prefectures))"
   ]
  },
  {
   "cell_type": "markdown",
   "metadata": {},
   "source": [
    "分散を計算する"
   ]
  },
  {
   "cell_type": "code",
   "execution_count": 4,
   "metadata": {},
   "outputs": [
    {
     "name": "stdout",
     "output_type": "stream",
     "text": [
      "全国 分散: 1980407153282.3872\n",
      "男性 分散: 1849988741209.4988\n",
      "女性 分散: 1980407153282.3872\n"
     ]
    }
   ],
   "source": [
    "import pandas as pd\n",
    "import numpy as np\n",
    "\n",
    "# Specify the file path\n",
    "file_path = 'FEH_00200521_240805152851.csv'\n",
    "\n",
    "# Read the CSV file into a pandas DataFrame\n",
    "df = pd.read_csv(file_path)\n",
    "\n",
    "# Display the DataFrame\n",
    "\n",
    "# 最初の行を読み飛ばす\n",
    "df.head()\n",
    "# 都道府県名のリストを作成\n",
    "prefectures = [\n",
    "    \"北海道\",\"青森県\", \"岩手県\",\"宮城県\",\"秋田県\",\"山形県\",\"福島県\",\n",
    "    \"茨城県\",\"栃木県\",\"群馬県\",\"埼玉県\",\"千葉県\",\"東京都\",\"神奈川県\",\n",
    "    \"新潟県\",\"富山県\",\"石川県\",\"福井県\",\"山梨県\",\"長野県\",\"岐阜県\",\n",
    "    \"静岡県\",\"愛知県\",\"三重県\",\"滋賀県\",\"京都府\",\"大阪府\",\"兵庫県\",\n",
    "    \"奈良県\",\"和歌山県\",\"鳥取県\",\"島根県\",\"岡山県\",\"広島県\",\"山口県\",\n",
    "    \"徳島県\",\"香川県\",\"愛媛県\",\"高知県\",\"福岡県\",\"佐賀県\",\"長崎県\",\n",
    "    \"熊本県\",\"大分県\",\"宮崎県\",\"鹿児島県\",\"沖縄県\"]\n",
    "\n",
    "# 都道府県名が含まれる行を表示\n",
    "total = []\n",
    "men   = []\n",
    "women = []\n",
    "\n",
    "for index, row in df.iterrows():\n",
    "    if row.iloc[3] in prefectures:\n",
    "        # print(row[3].strip(), row[5].strip(), row[6].strip(), row[7].strip())\n",
    "        total.append(int(row.iloc[5].replace(',','').strip()))\n",
    "        men.append(int(row.iloc[6].replace(',','').strip()))\n",
    "        women.append(int(row.iloc[7].replace(',','').strip()))\n",
    "\n",
    "# 分散を計算する\n",
    "total_variance = np.var(total)\n",
    "men_variance = np.var(men)\n",
    "total_variance = np.var(women)\n",
    "\n",
    "print(\"全国 分散:\", total_variance)\n",
    "print(\"男性 分散:\", men_variance)\n",
    "print(\"女性 分散:\", total_variance)\n"
   ]
  },
  {
   "cell_type": "markdown",
   "metadata": {},
   "source": [
    "「○○市」の人口の平均と分散を計算する。"
   ]
  },
  {
   "cell_type": "code",
   "execution_count": 5,
   "metadata": {},
   "outputs": [
    {
     "name": "stdout",
     "output_type": "stream",
     "text": [
      "市の 合計: 106024666\n",
      "市の 平均: 133869.52777777778\n",
      "市の 分散: 66643362426.27953\n"
     ]
    }
   ],
   "source": [
    "import pandas as pd\n",
    "import numpy as np\n",
    "\n",
    "# Specify the file path\n",
    "file_path = 'FEH_00200521_240805152851.csv'\n",
    "\n",
    "# Read the CSV file into a pandas DataFrame\n",
    "df = pd.read_csv(file_path)\n",
    "\n",
    "# Display the DataFrame\n",
    "\n",
    "# 最初の行を読み飛ばす\n",
    "df.head()\n",
    "# 市だけをピックアップ\n",
    "total = []\n",
    "\n",
    "for index, row in df.iterrows():\n",
    "    # 市が含まれる行を表示\n",
    "    if row.iloc[3].endswith(\"市\"):\n",
    "        total.append(int(row.iloc[5].replace(',','').strip()))\n",
    "\n",
    "# 合計を計算する\n",
    "total_sum = np.sum(total)\n",
    "# 平均を計算する\n",
    "total_mean = np.mean(total)\n",
    "# 分散を計算する\n",
    "total_variance = np.var(total)\n",
    "\n",
    "print(\"市の 合計:\", total_sum)\n",
    "print(\"市の 平均:\", total_mean)\n",
    "print(\"市の 分散:\", total_variance)\n"
   ]
  }
 ],
 "metadata": {
  "kernelspec": {
   "display_name": ".venv",
   "language": "python",
   "name": "python3"
  },
  "language_info": {
   "codemirror_mode": {
    "name": "ipython",
    "version": 3
   },
   "file_extension": ".py",
   "mimetype": "text/x-python",
   "name": "python",
   "nbconvert_exporter": "python",
   "pygments_lexer": "ipython3",
   "version": "3.9.7"
  }
 },
 "nbformat": 4,
 "nbformat_minor": 2
}
