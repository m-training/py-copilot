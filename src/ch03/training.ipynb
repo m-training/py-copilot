{
 "cells": [
  {
   "cell_type": "code",
   "execution_count": 5,
   "id": "72f4dfa9",
   "metadata": {},
   "outputs": [
    {
     "name": "stdout",
     "output_type": "stream",
     "text": [
      "加算: 13\n",
      "減算: 7\n",
      "乗算: 30\n",
      "除算: 3.3333333333333335\n"
     ]
    }
   ],
   "source": [
    "# 四則演算のサンプルコード\n",
    "\n",
    "a = 10\n",
    "b = 3\n",
    "\n",
    "# 加算\n",
    "addition = a + b\n",
    "\n",
    "# 減算\n",
    "subtraction = a - b\n",
    "\n",
    "# 乗算\n",
    "multiplication = a * b\n",
    "\n",
    "# 除算\n",
    "division = a / b\n",
    "\n",
    "print(\"加算:\", addition)\n",
    "print(\"減算:\", subtraction)\n",
    "print(\"乗算:\", multiplication)\n",
    "print(\"除算:\", division)"
   ]
  },
  {
   "cell_type": "code",
   "execution_count": 6,
   "id": "1b2a0f11",
   "metadata": {},
   "outputs": [
    {
     "name": "stdout",
     "output_type": "stream",
     "text": [
      "除算: 3.3333333333333335\n",
      "整数除算: 3\n",
      "余り: 1\n"
     ]
    }
   ],
   "source": [
    "# 四則演算のサンプルコード\n",
    "\n",
    "a = 10\n",
    "b = 3\n",
    "\n",
    "# 除算\n",
    "division_double = a / b\n",
    "\n",
    "# 整数除算\n",
    "division_int = a // b\n",
    "\n",
    "# 余り\n",
    "remainder = a % b\n",
    "\n",
    "print(\"除算:\", division_double)\n",
    "print(\"整数除算:\", division_int)\n",
    "print(\"余り:\", remainder)"
   ]
  },
  {
   "cell_type": "code",
   "execution_count": 7,
   "id": "fc0aeb84",
   "metadata": {},
   "outputs": [
    {
     "name": "stdout",
     "output_type": "stream",
     "text": [
      "a == b: False\n",
      "a != b: True\n",
      "a > b: True\n",
      "a < b: False\n",
      "a >= b: True\n",
      "a <= b: False\n"
     ]
    }
   ],
   "source": [
    "# 比較演算子のサンプルコード\n",
    "a = 10\n",
    "b = 3\n",
    "\n",
    "equal = a == b\n",
    "not_equal = a != b\n",
    "greater = a > b\n",
    "less = a < b\n",
    "greater_equal = a >= b\n",
    "less_equal = a <= b\n",
    "\n",
    "print(\"a == b:\", equal)        # 等しいかどうか\n",
    "print(\"a != b:\", not_equal)    # 等しくないかどうか\n",
    "print(\"a > b:\", greater)       # aがbより大きいか\n",
    "print(\"a < b:\", less)          # aがbより小さいか\n",
    "print(\"a >= b:\", greater_equal) # aがb以上か\n",
    "print(\"a <= b:\", less_equal)    # aがb以下か\n"
   ]
  },
  {
   "cell_type": "code",
   "execution_count": 8,
   "id": "d74455c9",
   "metadata": {},
   "outputs": [
    {
     "name": "stdout",
     "output_type": "stream",
     "text": [
      "論理結果: True\n",
      "論理結果: True\n"
     ]
    }
   ],
   "source": [
    "x = True\n",
    "print(\"論理結果:\", x == True)\n",
    "print(\"論理結果:\", x == 1)"
   ]
  },
  {
   "cell_type": "code",
   "execution_count": 22,
   "id": "8fd79e8f",
   "metadata": {},
   "outputs": [
    {
     "name": "stdout",
     "output_type": "stream",
     "text": [
      "a       :  10 (0b 00001010)\n",
      "b       :   3 (0b 00000011)\n",
      "AND     :   2 (0b 0000\u001b[91m0\u001b[0m010)\n",
      "OR      :  11 (0b 0000101\u001b[91m1\u001b[0m)\n",
      "XOR     :   9 (0b 000010\u001b[91m0\u001b[0m\u001b[91m1\u001b[0m)\n",
      "NOT a   : -11 (0b \u001b[91m1\u001b[0m\u001b[91m1\u001b[0m\u001b[91m1\u001b[0m\u001b[91m1\u001b[0m\u001b[91m0\u001b[0m\u001b[91m1\u001b[0m\u001b[91m0\u001b[0m\u001b[91m1\u001b[0m)\n",
      "a << 2  :  40 (0b 00\u001b[91m1\u001b[0m010\u001b[91m0\u001b[0m0)\n",
      "a >> 2  :   2 (0b 0000\u001b[91m0\u001b[0m010)\n"
     ]
    }
   ],
   "source": [
    "# ビット演算子のサンプルコード\n",
    "a = 10  # 2進数: 1010\n",
    "b = 3   # 2進数: 0011\n",
    "\n",
    "bit_and = a & b        # AND演算\n",
    "bit_or = a | b         # OR演算\n",
    "bit_xor = a ^ b        # XOR演算\n",
    "bit_not_a = ~a         # NOT演算（aの反転）\n",
    "bit_left_shift = a << 2  # 左シフト\n",
    "bit_right_shift = a >> 2 # 右シフト\n",
    "\n",
    "# 「0b」の位置が揃うように、桁数を調整して表示\n",
    "def format_bin(val, width=8):\n",
    "    # 負数の場合は8ビットでマスクする\n",
    "    if val >= 0:\n",
    "        masked_val = val\n",
    "    else:\n",
    "        masked_val = val & 0xff\n",
    "    # 指定した幅で2進数文字列に変換\n",
    "    bin_str = format(masked_val, f'0{width}b')\n",
    "    # \"0b\"を付けて返す\n",
    "    return f\"0b {bin_str}\"\n",
    "\n",
    "# 変更されたビットを色付けして表示する関数\n",
    "def color_diff_bin(before, after, width=8):\n",
    "    # 負数の場合は8ビットでマスクする\n",
    "    if before >= 0:\n",
    "        before_masked = before\n",
    "    else:\n",
    "        before_masked = before & 0xff\n",
    "    if after >= 0:\n",
    "        after_masked = after\n",
    "    else:\n",
    "        after_masked = after & 0xff\n",
    "    before_bin = format(before_masked, f'0{width}b')\n",
    "    after_bin = format(after_masked, f'0{width}b')\n",
    "    colored = \"\"\n",
    "    for b, a in zip(before_bin, after_bin):\n",
    "        if b != a:\n",
    "            # 赤色で強調\n",
    "            colored += f\"\\033[91m{a}\\033[0m\"\n",
    "        else:\n",
    "            colored += a\n",
    "    return f\"0b {colored}\"\n",
    "\n",
    "# 各ビット演算結果を表示（10進数と2進数両方、変更ビットを色付け）\n",
    "def print_dec_bin(label, val, before=None):\n",
    "    if before is not None:\n",
    "        bin_str = color_diff_bin(before, val)\n",
    "    else:\n",
    "        bin_str = format_bin(val)\n",
    "    print(f\"{label:<8}: {val:>3} ({bin_str})\")\n",
    "\n",
    "print_dec_bin(\"a\", a)\n",
    "print_dec_bin(\"b\", b)\n",
    "print_dec_bin(\"AND\", bit_and, before=a)\n",
    "print_dec_bin(\"OR\", bit_or, before=a)\n",
    "print_dec_bin(\"XOR\", bit_xor, before=a)\n",
    "print_dec_bin(\"NOT a\", bit_not_a, before=a)\n",
    "print_dec_bin(\"a << 2\", bit_left_shift, before=a)\n",
    "print_dec_bin(\"a >> 2\", bit_right_shift, before=a)\n"
   ]
  },
  {
   "cell_type": "code",
   "execution_count": 25,
   "id": "f0c69c13",
   "metadata": {},
   "outputs": [
    {
     "name": "stdout",
     "output_type": "stream",
     "text": [
      "10は3より大きい\n",
      "aとbは両方正の数です\n",
      "aは5より大きく、bは5より小さい\n"
     ]
    }
   ],
   "source": [
    "# if-elif-else文のサンプルコード\n",
    "if a < b:\n",
    "    print(f\"{a}は{b}より小さい\")\n",
    "elif a > b:\n",
    "    print(f\"{a}は{b}より大きい\")\n",
    "else:\n",
    "    print(f\"{a}と{b}は等しい\")\n",
    "\n",
    "# ネストされた条件分岐\n",
    "if a > 0:\n",
    "    if b > 0:\n",
    "        print(\"aとbは両方正の数です\")\n",
    "    else:\n",
    "        print(\"aは正の数ですが、bは0以下です\")\n",
    "else:\n",
    "    print(\"aは0以下です\")\n",
    "\n",
    "# 論理演算子を使った条件分岐\n",
    "if a > 5 and b < 5:\n",
    "    print(\"aは5より大きく、bは5より小さい\")\n",
    "elif a > 5 or b < 5:\n",
    "    print(\"aは5より大きい、またはbは5より小さい\")"
   ]
  }
 ],
 "metadata": {
  "kernelspec": {
   "display_name": "base",
   "language": "python",
   "name": "python3"
  },
  "language_info": {
   "codemirror_mode": {
    "name": "ipython",
    "version": 3
   },
   "file_extension": ".py",
   "mimetype": "text/x-python",
   "name": "python",
   "nbconvert_exporter": "python",
   "pygments_lexer": "ipython3",
   "version": "3.6.8"
  }
 },
 "nbformat": 4,
 "nbformat_minor": 5
}
