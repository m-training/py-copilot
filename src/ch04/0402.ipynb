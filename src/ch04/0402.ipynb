{
 "cells": [
  {
   "cell_type": "markdown",
   "metadata": {},
   "source": [
    "数値や文字列を色々な方法で出力する\n"
   ]
  },
  {
   "cell_type": "code",
   "execution_count": 2,
   "metadata": {},
   "outputs": [
    {
     "name": "stdout",
     "output_type": "stream",
     "text": [
      "1000\n",
      "20\n",
      "1000000\n",
      "      1000\n",
      "        20\n",
      "   1000000\n",
      "1,000\n",
      "20\n",
      "1,000,000\n",
      "     1,000\n",
      "        20\n",
      " 1,000,000\n",
      "￥     1,000\n",
      "￥        20\n",
      "￥ 1,000,000\n"
     ]
    }
   ],
   "source": [
    "\n",
    "x = 1000\n",
    "y = 20\n",
    "z = 1000000\n",
    "\n",
    "# 通常の表示\n",
    "print(x)\n",
    "print(y)\n",
    "print(z)\n",
    "\n",
    "# 数値を右揃えにする\n",
    "print(\"{:>10}\".format(x))\n",
    "print(\"{:>10}\".format(y))\n",
    "print(\"{:>10}\".format(z))\n",
    "\n",
    "# 数値を3桁でカンマ区切りにする\n",
    "print(\"{:,}\".format(x))\n",
    "print(\"{:,}\".format(y))\n",
    "print(\"{:,}\".format(z))\n",
    "\n",
    "# 数値を3桁でカンマ区切りで右揃えにする\n",
    "print(\"{:>10,}\".format(x))\n",
    "print(\"{:>10,}\".format(y))\n",
    "print(\"{:>10,}\".format(z))\n",
    "\n",
    "# 円記号をつける\n",
    "print(\"￥{:>10,}\".format(x))\n",
    "print(\"￥{:>10,}\".format(y))\n",
    "print(\"￥{:>10,}\".format(z))\n",
    "\n"
   ]
  },
  {
   "cell_type": "markdown",
   "metadata": {},
   "source": [
    "文字列をいろいろな形式で表示する"
   ]
  },
  {
   "cell_type": "code",
   "execution_count": 9,
   "metadata": {},
   "outputs": [
    {
     "name": "stdout",
     "output_type": "stream",
     "text": [
      "Masuda Tomoaki\n",
      "Yamada Taro   \n",
      "Sato Jiro     \n",
      "名前:Masuda Tomoaki\n",
      "名前:Yamada Taro   \n",
      "名前:Sato Jiro     \n",
      "      Masuda Tomoaki\n",
      "      Yamada Taro   \n",
      "      Sato Jiro     \n",
      "'Masud'\n",
      "'Yamad'\n",
      "'Sato '\n",
      "Masuda Tomoaki\n",
      "Yamada Taro\n",
      "Sato Jiro\n",
      "'Masuda Tomoaki'\n",
      "'Yamada Taro'\n",
      "'Sato Jiro'\n",
      "Masuda*Tomoaki\n",
      "Yamada*Taro***\n",
      "Sato*Jiro*****\n"
     ]
    }
   ],
   "source": [
    "name1 = \"Masuda Tomoaki\"\n",
    "name2 = \"Yamada Taro   \"\n",
    "name3 = \"Sato Jiro     \"\n",
    "\n",
    "# 通常の表示\n",
    "print(name1)\n",
    "print(name2)\n",
    "print(name3)\n",
    "\n",
    "# 先頭に \"名前:\" をつける\n",
    "print(\"名前:{}\".format(name1))\n",
    "print(\"名前:{}\".format(name2))\n",
    "print(\"名前:{}\".format(name3))\n",
    "\n",
    "# 右揃えで表示する\n",
    "print(\"{:>20}\".format(name1))\n",
    "print(\"{:>20}\".format(name2))\n",
    "print(\"{:>20}\".format(name3))\n",
    "\n",
    "# 先頭の5文字だけを表示する\n",
    "print(\"'{:.5}'\".format(name1))\n",
    "print(\"'{:.5}'\".format(name2))\n",
    "print(\"'{:.5}'\".format(name3))\n",
    "\n",
    "# 前後の空白を削除する\n",
    "print(name1.strip())\n",
    "print(name2.strip())\n",
    "print(name3.strip())\n",
    "\n",
    "# 前後にシングルクォートをつける\n",
    "print(\"'{}'\".format(name1.strip()))\n",
    "print(\"'{}'\".format(name2.strip()))\n",
    "print(\"'{}'\".format(name3.strip()))\n",
    "\n",
    "# 空白を '*' で埋める\n",
    "print(name1.replace(\" \", \"*\"))\n",
    "print(name2.replace(\" \", \"*\"))\n",
    "print(name3.replace(\" \", \"*\"))\n"
   ]
  },
  {
   "cell_type": "markdown",
   "metadata": {},
   "source": [
    "小数点以下を制限して表示する\n"
   ]
  },
  {
   "cell_type": "code",
   "execution_count": 12,
   "metadata": {},
   "outputs": [
    {
     "name": "stdout",
     "output_type": "stream",
     "text": [
      "12345.6789\n",
      "12345.68\n",
      "12345\n",
      "12300\n",
      "12300.00\n",
      "12300\n"
     ]
    }
   ],
   "source": [
    "x = 12345.6789\n",
    "\n",
    "# 通常の表示\n",
    "print(x)\n",
    "# 小数点以下2桁まで表示する\n",
    "print(\"{:.2f}\".format(x))\n",
    "# 整数部を表示\n",
    "print(\"{:d}\".format(int(x)))\n",
    "\n",
    "x = 12300\n",
    "\n",
    "# 通常の表示\n",
    "print(x)\n",
    "# 小数点以下2桁まで表示する\n",
    "print(\"{:.2f}\".format(x))\n",
    "# 整数部を表示\n",
    "print(\"{:d}\".format(int(x)))\n"
   ]
  }
 ],
 "metadata": {
  "kernelspec": {
   "display_name": ".venv",
   "language": "python",
   "name": "python3"
  },
  "language_info": {
   "codemirror_mode": {
    "name": "ipython",
    "version": 3
   },
   "file_extension": ".py",
   "mimetype": "text/x-python",
   "name": "python",
   "nbconvert_exporter": "python",
   "pygments_lexer": "ipython3",
   "version": "3.9.7"
  }
 },
 "nbformat": 4,
 "nbformat_minor": 2
}
