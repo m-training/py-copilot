{
 "cells": [
  {
   "cell_type": "markdown",
   "metadata": {},
   "source": [
    "文字列から数値を取得する\n",
    "- 文字列から数値の読み込み\n",
    "- 指数表現からの読み込み\n",
    "- カンマ区切りの金額を読み込み\n",
    "- カンマ区切りのCSV形式から読み込み"
   ]
  },
  {
   "cell_type": "code",
   "execution_count": 5,
   "metadata": {},
   "outputs": [
    {
     "name": "stdout",
     "output_type": "stream",
     "text": [
      "10000\n",
      "10000\n",
      "123.456\n",
      "123.456\n",
      "1.23e4\n",
      "12300.0\n",
      "FF\n",
      "255\n",
      "￥1,000\n",
      "1000\n"
     ]
    }
   ],
   "source": [
    "s = \"10000\"\n",
    "\n",
    "# 文字列で表示\n",
    "print(s)\n",
    "# 数値に変換して表示\n",
    "x = int(s)\n",
    "print(x)\n",
    "\n",
    "s = \"123.456\"\n",
    "\n",
    "# 文字列で表示\n",
    "print(s)\n",
    "# 数値に変換して表示\n",
    "x = float(s)\n",
    "print(x)\n",
    "\n",
    "# 指数表現の場合\n",
    "s = \"1.23e4\"\n",
    "# 文字列で表示\n",
    "print(s)\n",
    "# 数値に変換して表示\n",
    "x = float(s)\n",
    "print(x)\n",
    "\n",
    "# 16進数の場合\n",
    "s = \"FF\"\n",
    "# 文字列で表示\n",
    "print(s)\n",
    "# 数値に変換して表示\n",
    "x = int(s, 16)\n",
    "print(x)\n",
    "\n",
    "# 金額の読み込み\n",
    "s = \"￥1,000\"\n",
    "# 文字列で表示\n",
    "print(s)\n",
    "# 数値に変換して表示\n",
    "x = int(s[1:].replace(\",\", \"\"))\n",
    "print(x)\n",
    "\n",
    "\n",
    "\n"
   ]
  },
  {
   "cell_type": "code",
   "execution_count": 16,
   "metadata": {},
   "outputs": [
    {
     "name": "stdout",
     "output_type": "stream",
     "text": [
      "100,200,300\n",
      "100 200 300\n",
      "\n",
      "\"100\",\"200\",\"300\"\n",
      "\n",
      "100 200 300\n"
     ]
    }
   ],
   "source": [
    "# カンマ区切りの文字列から数値を取り出す\n",
    "s = \"100,200,300\"\n",
    "# 文字列で表示\n",
    "print(s)\n",
    "# 数値に変換して表示\n",
    "x, y, z = map(int, s.split(\",\"))\n",
    "print(x, y, z)\n",
    "\n",
    "# カンマ区切りの文字列から数値を取り出す\n",
    "# 数値はダブルクォーテーションで囲まれている\n",
    "s = '''\n",
    "\"100\",\"200\",\"300\"\n",
    "'''\n",
    "# 文字列で表示\n",
    "print(s)\n",
    "# 数値に変換して表示\n",
    "x, y, z = map(str, s.split(\",\"))\n",
    "x = int(x.replace('\"', ''))\n",
    "y = int(y.replace('\"', ''))\n",
    "z = int(z.replace('\"', ''))\n",
    "\n",
    "print(x, y, z)\n"
   ]
  }
 ],
 "metadata": {
  "kernelspec": {
   "display_name": ".venv",
   "language": "python",
   "name": "python3"
  },
  "language_info": {
   "codemirror_mode": {
    "name": "ipython",
    "version": 3
   },
   "file_extension": ".py",
   "mimetype": "text/x-python",
   "name": "python",
   "nbconvert_exporter": "python",
   "pygments_lexer": "ipython3",
   "version": "3.9.7"
  }
 },
 "nbformat": 4,
 "nbformat_minor": 2
}
