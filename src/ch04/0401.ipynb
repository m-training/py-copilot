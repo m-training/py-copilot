{
 "cells": [
  {
   "cell_type": "code",
   "execution_count": 2,
   "metadata": {},
   "outputs": [
    {
     "name": "stdout",
     "output_type": "stream",
     "text": [
      "Number: 50\n",
      "String: masuda\n"
     ]
    }
   ],
   "source": [
    "number = int(input(\"Enter a number: \"))\n",
    "string = input(\"Enter a string: \")\n",
    "\n",
    "print(\"Number:\", number)\n",
    "print(\"String:\", string)\n"
   ]
  },
  {
   "cell_type": "code",
   "execution_count": 3,
   "metadata": {},
   "outputs": [
    {
     "name": "stdout",
     "output_type": "stream",
     "text": [
      "名前: masuda\n",
      "年齢: 50\n"
     ]
    }
   ],
   "source": [
    "\n",
    "name, age = input(\"名前と年齢を入力してください（スペースで区切ってください）: \").split()\n",
    "age = int(age)\n",
    "\n",
    "print(\"名前:\", name)\n",
    "print(\"年齢:\", age)\n"
   ]
  },
  {
   "cell_type": "code",
   "execution_count": 5,
   "metadata": {},
   "outputs": [
    {
     "name": "stdout",
     "output_type": "stream",
     "text": [
      "Name: masuda\n",
      "Age: 50\n",
      "Name: tomoaki\n",
      "Age: 40\n",
      "Name: yamada\n",
      "Age: 30\n"
     ]
    }
   ],
   "source": [
    "# Initialize an empty list to store the names and ages\n",
    "people = []\n",
    "\n",
    "# Read multiple names and ages\n",
    "while True:\n",
    "    # Read the input for name and age\n",
    "    input_str = input(\"Enter name and age (separated by a space), or 'done' to finish: \")\n",
    "    \n",
    "    # Check if the user wants to finish entering names and ages\n",
    "    if input_str.lower() == 'done':\n",
    "        break\n",
    "    \n",
    "    # Split the input string into name and age\n",
    "    name, age = input_str.split()\n",
    "    \n",
    "    # Convert age to integer\n",
    "    age = int(age)\n",
    "    \n",
    "    # Add the name and age to the list\n",
    "    people.append((name, age))\n",
    "\n",
    "# Print the names and ages\n",
    "for name, age in people:\n",
    "    print(\"Name:\", name)\n",
    "    print(\"Age:\", age)\n"
   ]
  }
 ],
 "metadata": {
  "kernelspec": {
   "display_name": ".venv",
   "language": "python",
   "name": "python3"
  },
  "language_info": {
   "codemirror_mode": {
    "name": "ipython",
    "version": 3
   },
   "file_extension": ".py",
   "mimetype": "text/x-python",
   "name": "python",
   "nbconvert_exporter": "python",
   "pygments_lexer": "ipython3",
   "version": "3.9.7"
  }
 },
 "nbformat": 4,
 "nbformat_minor": 2
}
