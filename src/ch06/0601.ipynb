{
 "cells": [
  {
   "cell_type": "markdown",
   "metadata": {},
   "source": [
    "## 6.1 Excel シートからデータを取り込む\n",
    "\n",
    "```\n",
    "pip install openpyxl\n",
    "pip install xlrd\n",
    "pip install pands\n",
    "```\n",
    "\n",
    "参考先\n",
    "\n",
    "pandasでExcelファイル（xlsx, xls）の読み込み（read_excel） | note.nkmk.me https://note.nkmk.me/python-pandas-read-excel/\n"
   ]
  },
  {
   "cell_type": "code",
   "execution_count": 3,
   "metadata": {},
   "outputs": [
    {
     "name": "stdout",
     "output_type": "stream",
     "text": [
      "   id     name  age   address\n",
      "0   1   masuda   55     tokyo\n",
      "1   2   tanaka   40     tokyo\n",
      "2   3     sato   30     osaka\n",
      "3   4  yoshida   20     osaka\n",
      "4   5      aoi   10  hokkaido\n"
     ]
    }
   ],
   "source": [
    "import pandas as pd\n",
    "\n",
    "# Read the Excel file\n",
    "df = pd.read_excel('./sample.xlsx', sheet_name='Sheet1')\n",
    "\n",
    "# Display the data\n",
    "print(df)\n"
   ]
  },
  {
   "cell_type": "code",
   "execution_count": 4,
   "metadata": {},
   "outputs": [
    {
     "name": "stdout",
     "output_type": "stream",
     "text": [
      "   id     name\n",
      "0   1   masuda\n",
      "1   2   tanaka\n",
      "2   3     sato\n",
      "3   4  yoshida\n",
      "4   5      aoi\n"
     ]
    }
   ],
   "source": [
    "import pandas as pd\n",
    "\n",
    "# Read the Excel file\n",
    "df = pd.read_excel('./sample.xlsx', sheet_name='Sheet1')\n",
    "\n",
    "# Display the data\n",
    "print(df[['id', 'name']])\n"
   ]
  },
  {
   "cell_type": "code",
   "execution_count": 5,
   "metadata": {},
   "outputs": [
    {
     "name": "stdout",
     "output_type": "stream",
     "text": [
      "   id     name  age   address\n",
      "4   5      aoi   10  hokkaido\n",
      "0   1   masuda   55     tokyo\n",
      "2   3     sato   30     osaka\n",
      "1   2   tanaka   40     tokyo\n",
      "3   4  yoshida   20     osaka\n"
     ]
    }
   ],
   "source": [
    "import pandas as pd\n",
    "\n",
    "# Read the Excel file\n",
    "df = pd.read_excel('./sample.xlsx', sheet_name='Sheet1')\n",
    "df_sorted = df.sort_values('name')\n",
    "print(df_sorted)\n"
   ]
  }
 ],
 "metadata": {
  "kernelspec": {
   "display_name": ".venv",
   "language": "python",
   "name": "python3"
  },
  "language_info": {
   "codemirror_mode": {
    "name": "ipython",
    "version": 3
   },
   "file_extension": ".py",
   "mimetype": "text/x-python",
   "name": "python",
   "nbconvert_exporter": "python",
   "pygments_lexer": "ipython3",
   "version": "3.9.7"
  }
 },
 "nbformat": 4,
 "nbformat_minor": 2
}
