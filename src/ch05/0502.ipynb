{
 "cells": [
  {
   "cell_type": "code",
   "execution_count": 5,
   "metadata": {},
   "outputs": [
    {
     "name": "stdout",
     "output_type": "stream",
     "text": [
      "pandas version:  2.2.1\n",
      "head:     id  name  age\n",
      "0   1  John   22\n",
      "1   2  Lina   33\n",
      "2   3  Mike   44\n",
      "3   4  Sara   55\n",
      "4   5  Alex   66\n",
      "index:  0\n",
      " row['id']:  1\n",
      " row['name']:  John\n",
      " row['age']:  22\n",
      "index:  1\n",
      " row['id']:  2\n",
      " row['name']:  Lina\n",
      " row['age']:  33\n",
      "index:  2\n",
      " row['id']:  3\n",
      " row['name']:  Mike\n",
      " row['age']:  44\n",
      "index:  3\n",
      " row['id']:  4\n",
      " row['name']:  Sara\n",
      " row['age']:  55\n",
      "index:  4\n",
      " row['id']:  5\n",
      " row['name']:  Alex\n",
      " row['age']:  66\n"
     ]
    }
   ],
   "source": [
    "import pandas as pd\n",
    "\n",
    "print(\"pandas version: \", pd.__version__)\n",
    "\n",
    "\n",
    "file_path = 'sample.csv'\n",
    "\n",
    "# ファイルパスを指定してCSVファイルを読み込む\n",
    "df = pd.read_csv(file_path)\n",
    "print(df.head())\n",
    "\n",
    "#     id  name  age\n",
    "# 0   1  John   22\n",
    "\n",
    "# データを1行ずつ取得\n",
    "for index, row in df.iterrows():\n",
    "    print(\"index: \", index)\n",
    "    print(\" row['id']: \", row['id'])\n",
    "    print(\" row['name']: \", row['name'])\n",
    "    print(\" row['age']: \", row['age'])\n"
   ]
  }
 ],
 "metadata": {
  "kernelspec": {
   "display_name": ".venv",
   "language": "python",
   "name": "python3"
  },
  "language_info": {
   "codemirror_mode": {
    "name": "ipython",
    "version": 3
   },
   "file_extension": ".py",
   "mimetype": "text/x-python",
   "name": "python",
   "nbconvert_exporter": "python",
   "pygments_lexer": "ipython3",
   "version": "3.9.7"
  }
 },
 "nbformat": 4,
 "nbformat_minor": 2
}
