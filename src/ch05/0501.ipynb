{
 "cells": [
  {
   "cell_type": "code",
   "execution_count": 8,
   "metadata": {},
   "outputs": [
    {
     "name": "stdout",
     "output_type": "stream",
     "text": [
      "フィンセント・ヴィレム・ファン・ゴッホ（Vincent Willem van Gogh, 1853年3月30日 - 1890年7月29日）は、\n",
      "19世紀後半のオランダ出身の画家で、ポスト印象派の代表的な人物の一人です。\n",
      "彼の作品は、その生き生きとした色彩、感情的な表現、革新的な筆使いにより、美術史において非常に重要な位置を占めています。\n",
      "ゴッホは生涯で2,100以上の作品を残しましたが、その大部分は彼が亡くなる直前の2年間に制作されました。\n",
      "彼の代表作には、「星月夜」「ひまわり」「アルルの寝室」などがあります。ゴッホは精神的な苦悩に悩まされ、37歳で自らの命を絶ちましたが、\n",
      "その死後、彼の作品は次第に評価を集め、今日では世界中で最も高く評価される画家の一人となっています。\n",
      "彼の画風は後の表現主義や抽象芸術に大きな影響を与え、彼の情熱的で個性的な作風は、多くの人々に感銘を与え続けています。\n",
      "\n"
     ]
    }
   ],
   "source": [
    "# テキストファイルを読み込むサンプルコード\n",
    "\n",
    "# ファイルパス\n",
    "file_path = \"sample.txt\"\n",
    "\n",
    "# ファイルを読み込む\n",
    "\n",
    "with open(file_path, \"r\", encoding=\"utf-8\") as file:\n",
    "    content = file.read()\n",
    "\n",
    "# 読み込んだ内容を表示する\n",
    "print(content)\n"
   ]
  }
 ],
 "metadata": {
  "kernelspec": {
   "display_name": ".venv",
   "language": "python",
   "name": "python3"
  },
  "language_info": {
   "codemirror_mode": {
    "name": "ipython",
    "version": 3
   },
   "file_extension": ".py",
   "mimetype": "text/x-python",
   "name": "python",
   "nbconvert_exporter": "python",
   "pygments_lexer": "ipython3",
   "version": "3.9.7"
  }
 },
 "nbformat": 4,
 "nbformat_minor": 2
}
