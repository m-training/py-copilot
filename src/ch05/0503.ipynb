{
 "cells": [
  {
   "cell_type": "code",
   "execution_count": 4,
   "metadata": {},
   "outputs": [
    {
     "name": "stdout",
     "output_type": "stream",
     "text": [
      "[{'id': 1, 'name': 'John', 'age': 22}, {'id': 2, 'name': 'Lina', 'age': 33}, {'id': 3, 'name': 'Mike', 'age': 44}, {'id': 4, 'name': 'Sara', 'age': 55}, {'id': 5, 'name': 'Alex', 'age': 66}]\n",
      "{'id': 1, 'name': 'John', 'age': 22}\n",
      "name: John\n",
      "{'id': 2, 'name': 'Lina', 'age': 33}\n",
      "name: Lina\n",
      "{'id': 3, 'name': 'Mike', 'age': 44}\n",
      "name: Mike\n",
      "{'id': 4, 'name': 'Sara', 'age': 55}\n",
      "name: Sara\n",
      "{'id': 5, 'name': 'Alex', 'age': 66}\n",
      "name: Alex\n"
     ]
    }
   ],
   "source": [
    "import json\n",
    "\n",
    "# ファイルパス\n",
    "file_path = \"sample.json\"\n",
    "\n",
    "# ファイルを読み込む\n",
    "with open(file_path, \"r\") as file:\n",
    "    data = json.load(file)\n",
    "\n",
    "# 読み込んだデータを表示する\n",
    "# print(data)\n",
    "\n",
    "# データを1行ずつ取得\n",
    "for line in data:\n",
    "    print(line)\n",
    "    print(\"id: \" + str(line[\"id\"]))\n",
    "    print(\"name: \" + line[\"name\"])\n",
    "    print(\"age: \" + str(line[\"age\"]))\n"
   ]
  }
 ],
 "metadata": {
  "kernelspec": {
   "display_name": ".venv",
   "language": "python",
   "name": "python3"
  },
  "language_info": {
   "codemirror_mode": {
    "name": "ipython",
    "version": 3
   },
   "file_extension": ".py",
   "mimetype": "text/x-python",
   "name": "python",
   "nbconvert_exporter": "python",
   "pygments_lexer": "ipython3",
   "version": "3.9.7"
  }
 },
 "nbformat": 4,
 "nbformat_minor": 2
}
