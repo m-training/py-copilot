# Test Case 1: All positive numbers
num1 = 5
num2 = 10
num3 = 15
numbers = [num1, num2, num3]
print("Numbers:", numbers)

# Test Case 2: All negative numbers
num1 = -5
num2 = -10
num3 = -15
numbers = [num1, num2, num3]
print("Numbers:", numbers)

# Test Case 3: Mix of positive and negative numbers
num1 = 5
num2 = -10
num3 = 15
numbers = [num1, num2, num3]
print("Numbers:", numbers)

# Test Case 4: Zeroes
num1 = 0
num2 = 0
num3 = 0
numbers = [num1, num2, num3]
print("Numbers:", numbers)